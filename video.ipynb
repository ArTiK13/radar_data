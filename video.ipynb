{
 "cells": [
  {
   "cell_type": "code",
   "execution_count": 7,
   "metadata": {},
   "outputs": [],
   "source": [
    "import matplotlib.animation as animation\n",
    "import pandas as pd\n",
    "import matplotlib.pyplot as plt\n",
    "import os\n",
    "import imageio\n",
    "from tqdm import tqdm"
   ]
  },
  {
   "cell_type": "code",
   "execution_count": 8,
   "metadata": {},
   "outputs": [],
   "source": [
    "data_raw_scene = 100"
   ]
  },
  {
   "cell_type": "code",
   "execution_count": 9,
   "metadata": {},
   "outputs": [
    {
     "name": "stderr",
     "output_type": "stream",
     "text": [
      "100%|██████████| 100/100 [05:49<00:00,  3.50s/it]\n"
     ]
    }
   ],
   "source": [
    "for num_scene in tqdm(range(0, data_raw_scene)):\n",
    "    scene_lidar = pd.read_csv(f\"data/processed data/lidar_data_{num_scene}.csv\")\n",
    "    # scene_radar = pd.read_csv(f\"data/processed data/radar_data_{num_scene}.csv\")\n",
    "    # plt.patch.set_facecolor(\"grey\")\n",
    "    plt.xlim([-110, 110])\n",
    "    plt.ylim([-50, 50])\n",
    "\n",
    "    k = len(scene_lidar[\"r, (reflectance)\"])\n",
    "    zxcbtw = [\n",
    "        (\n",
    "            (scene_lidar[\"r, (reflectance)\"][i] / 255) ** 0.3,\n",
    "            0,\n",
    "            1 - (scene_lidar[\"r, (reflectance)\"][i] / 255) ** 0.3,\n",
    "            0.05,\n",
    "        )\n",
    "        for i in range(k)\n",
    "    ]\n",
    "    plt.scatter(scene_lidar[\"X, (m)\"], scene_lidar[\"Y, (m)\"], s=1, c=zxcbtw)\n",
    "    # plt.scatter(scene_radar[\"X, (m)\"], scene_radar[\"Y, (m)\"], s=1, c=\"red\")\n",
    "    plt.title(f\"Frame {num_scene}\")\n",
    "    plt.savefig(f\"data/lidar_reflection_png/Frame_{num_scene}.png\")\n",
    "    plt.close()"
   ]
  },
  {
   "cell_type": "code",
   "execution_count": 10,
   "metadata": {},
   "outputs": [],
   "source": [
    "# with imageio.get_writer(\"Output.gif\", mode=\"I\", duration=0.5) as writer:\n",
    "#     for num_scene in range(data_raw_scene):\n",
    "#         image = imageio.imread(f\"data/lidar_reflection_png/Frame_{num_scene}.png\")\n",
    "#         writer.append_data(image)"
   ]
  }
 ],
 "metadata": {
  "kernelspec": {
   "display_name": ".venv",
   "language": "python",
   "name": "python3"
  },
  "language_info": {
   "codemirror_mode": {
    "name": "ipython",
    "version": 3
   },
   "file_extension": ".py",
   "mimetype": "text/x-python",
   "name": "python",
   "nbconvert_exporter": "python",
   "pygments_lexer": "ipython3",
   "version": "3.12.3"
  }
 },
 "nbformat": 4,
 "nbformat_minor": 2
}
