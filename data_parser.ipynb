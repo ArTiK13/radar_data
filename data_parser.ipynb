{
 "cells": [
  {
   "cell_type": "code",
   "execution_count": 1,
   "metadata": {},
   "outputs": [],
   "source": [
    "import pandas as pd\n",
    "import numpy as np\n",
    "import matplotlib.pyplot as plt\n",
    "import math\n",
    "import json\n",
    "import struct\n",
    "from collections import defaultdict\n",
    "from tqdm import tqdm"
   ]
  },
  {
   "cell_type": "code",
   "execution_count": 2,
   "metadata": {},
   "outputs": [],
   "source": [
    "# data_primary_raw = pd.read_csv(\"data.csv\")\n",
    "# data_secondary_raw = pd.read_csv(\"data_secondary.csv\")\n",
    "\n",
    "# datatypes = {7: 4, 1: 1}\n",
    "# point_step = 64\n",
    "# tags_raw = (\n",
    "#     {b\"name\": \"x\", b\"datatype\": 7, b\"count\": 1, b\"offset\": 0},\n",
    "#     {b\"name\": \"y\", b\"datatype\": 7, b\"count\": 1, b\"offset\": 4},\n",
    "#     {b\"name\": \"z\", b\"datatype\": 7, b\"count\": 1, b\"offset\": 8},\n",
    "#     {b\"name\": \"obj_vrel_long\", b\"datatype\": 7, b\"count\": 1, b\"offset\": 12},\n",
    "#     {b\"name\": \"obj_lat_speed\", b\"datatype\": 7, b\"count\": 1, b\"offset\": 16},\n",
    "#     {b\"name\": \"obj_rcs_value\", b\"datatype\": 7, b\"count\": 1, b\"offset\": 20},\n",
    "#     {b\"name\": \"radial_speed_absolute\", b\"datatype\": 7, b\"count\": 1, b\"offset\": 24},\n",
    "#     {b\"name\": \"distance_accuracy\", b\"datatype\": 7, b\"count\": 1, b\"offset\": 28},\n",
    "#     {b\"name\": \"angle_accuracy\", b\"datatype\": 7, b\"count\": 1, b\"offset\": 32},\n",
    "#     {b\"name\": \"pdh0\", b\"datatype\": 7, b\"count\": 1, b\"offset\": 36},\n",
    "#     {b\"name\": \"dist_long_rms\", b\"datatype\": 7, b\"count\": 1, b\"offset\": 40},\n",
    "#     {b\"name\": \"dist_lat_rms\", b\"datatype\": 7, b\"count\": 1, b\"offset\": 44},\n",
    "#     {b\"name\": \"v_long_rms\", b\"datatype\": 7, b\"count\": 1, b\"offset\": 48},\n",
    "#     {b\"name\": \"v_lat_rms\", b\"datatype\": 7, b\"count\": 1, b\"offset\": 52},\n",
    "#     {b\"name\": \"dyn_prop\", b\"datatype\": 1, b\"count\": 1, b\"offset\": 56},\n",
    "#     {b\"name\": \"range\", b\"datatype\": 1, b\"count\": 1, b\"offset\": 57},\n",
    "#     {b\"name\": \"has_quality\", b\"datatype\": 1, b\"count\": 1, b\"offset\": 58},\n",
    "#     {b\"name\": \"invalid\", b\"datatype\": 1, b\"count\": 1, b\"offset\": 60},\n",
    "#     {b\"name\": \"ambig\", b\"datatype\": 1, b\"count\": 1, b\"offset\": 59},\n",
    "# )\n",
    "# tags = {i[b\"name\"]: (datatypes[i[b\"datatype\"]], i[b\"offset\"]) for i in tags_raw}\n",
    "\n",
    "# parsed_keys = (\n",
    "#     (\"ride_date\", \"rover\", \"message_ts\", \"log_time\", \"ride_time\")\n",
    "#     + tuple(\"primary_\" + tag for tag in tags.keys())\n",
    "#     + tuple(\"secondary_\" + tag for tag in tags.keys())\n",
    "# )\n",
    "# preff = (\"primary_\", \"secondary_\")\n",
    "\n",
    "# # data_secondary_raw"
   ]
  },
  {
   "cell_type": "code",
   "execution_count": 3,
   "metadata": {},
   "outputs": [],
   "source": [
    "# parsed = defaultdict(list)\n",
    "# for data_N, data in enumerate(\n",
    "#     (\n",
    "#         data_primary_raw[\"b'radar_primary_list'\"],\n",
    "#         data_secondary_raw[\"b'radar_secondary_list'\"],\n",
    "#     )\n",
    "# ):\n",
    "#     for i, date_i in enumerate(data):\n",
    "#         dots_raw = bytes(map(int, date_i[1:-1].split(\", \")))\n",
    "\n",
    "#         for k in (\"ride_date\", \"rover\", \"message_ts\", \"log_time\", \"ride_time\"):\n",
    "#             parsed[k].extend(\n",
    "#                 [\n",
    "#                     (data_primary_raw if not data_N else data_secondary_raw)[\n",
    "#                         str(k.encode())\n",
    "#                     ][i]\n",
    "#                 ]\n",
    "#                 * (len(dots_raw) // 64)\n",
    "#             )\n",
    "\n",
    "#         for j in range(len(dots_raw) // 64):\n",
    "\n",
    "#             for tag_key, (tag_len, tag_offs) in tags.items():\n",
    "#                 match tag_len:\n",
    "#                     case 4:\n",
    "#                         parsed[tag_key].append(\n",
    "#                             struct.unpack(\n",
    "#                                 \"f\",\n",
    "#                                 dots_raw[\n",
    "#                                     j * 64 + tag_offs : j * 64 + tag_offs + tag_len\n",
    "#                                 ],\n",
    "#                             )[0]\n",
    "#                         )\n",
    "#                     case 1:\n",
    "#                         parsed[tag_key].append(\n",
    "#                             dots_raw[\n",
    "#                                 j * 64 + tag_offs : j * 64 + tag_offs + tag_len\n",
    "#                             ].decode()\n",
    "#                         )"
   ]
  },
  {
   "cell_type": "code",
   "execution_count": 4,
   "metadata": {},
   "outputs": [],
   "source": [
    "# parsed_df = pd.DataFrame(parsed)\n",
    "# parsed_df.to_csv('clean_data.csv', index=False)\n",
    "# parsed_df"
   ]
  },
  {
   "cell_type": "code",
   "execution_count": 16,
   "metadata": {},
   "outputs": [
    {
     "name": "stderr",
     "output_type": "stream",
     "text": [
      "100%|██████████| 100/100 [00:35<00:00,  2.78it/s]\n"
     ]
    }
   ],
   "source": [
    "data_raw_cnt = 100\n",
    "radar_lidar_data_raw = defaultdict(list)\n",
    "\n",
    "for i in tqdm(range(data_raw_cnt)):\n",
    "    with open(f\"data/raw data/scene_{i}.json\", \"r\") as file:\n",
    "        radar_lidar_data_i = json.load(file)\n",
    "        radar_lidar_data_raw[\"lidar\"].extend(radar_lidar_data_i[\"lidar\"])\n",
    "        radar_lidar_data_raw[\"radar\"].extend(radar_lidar_data_i[\"radar\"])"
   ]
  },
  {
   "cell_type": "code",
   "execution_count": 17,
   "metadata": {},
   "outputs": [],
   "source": [
    "lidar_tags = \"\"\"X, (m)\n",
    "Y, (m)\n",
    "Z, (m)\n",
    "r, (reflectance)\n",
    "lidar_ring\"\"\".split(\n",
    "    \"\\n\"\n",
    ")\n",
    "lidar_df = pd.DataFrame(\n",
    "    radar_lidar_data_raw[\"lidar\"],\n",
    "    columns=lidar_tags,\n",
    ")\n",
    "radar_tags = \"\"\"X, (m)\n",
    "Y, (m)\n",
    "Z, (m)\n",
    "AbsoluteRadialVelocity\n",
    "RadarCrossSection\n",
    "RelativeRadialVelocity\n",
    "RelativeLateralVelocity\n",
    "Range\n",
    "DistanceAccuracy\n",
    "AngleAccuracy\n",
    "DynProp\n",
    "HasQuality\n",
    "QPDH0\n",
    "QDistLongRMS\n",
    "QDistLatRMS\n",
    "QVLongRMS\n",
    "QVLatRMS\n",
    "QAmbigState\n",
    "QInvalidState\n",
    "(radar_point_ts - lidar_ts), (s)\n",
    "radar_idx\"\"\".split(\n",
    "    \"\\n\"\n",
    ")\n",
    "radar_df = pd.DataFrame(radar_lidar_data_raw[\"radar\"], columns=radar_tags)"
   ]
  },
  {
   "cell_type": "code",
   "execution_count": 18,
   "metadata": {},
   "outputs": [],
   "source": [
    "# radar_df, lidar_df\n",
    "radar_df.to_csv('data/processed data/radar_data.csv', index=False)\n",
    "lidar_df.to_csv('data/processed data/lidar_data.csv', index=False)\n"
   ]
  }
 ],
 "metadata": {
  "kernelspec": {
   "display_name": ".venv",
   "language": "python",
   "name": "python3"
  },
  "language_info": {
   "codemirror_mode": {
    "name": "ipython",
    "version": 3
   },
   "file_extension": ".py",
   "mimetype": "text/x-python",
   "name": "python",
   "nbconvert_exporter": "python",
   "pygments_lexer": "ipython3",
   "version": "3.12.3"
  }
 },
 "nbformat": 4,
 "nbformat_minor": 2
}
