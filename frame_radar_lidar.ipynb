{
 "cells": [
  {
   "cell_type": "code",
   "execution_count": 1,
   "metadata": {},
   "outputs": [],
   "source": [
    "import pandas as pd\n",
    "import matplotlib.pyplot as plt\n",
    "from tqdm import tqdm\n",
    "import json\n",
    "import math"
   ]
  },
  {
   "cell_type": "code",
   "execution_count": 12,
   "metadata": {},
   "outputs": [],
   "source": [
    "#constant\n",
    "\n",
    "data_raw_frame = 100\n",
    "opacity = 0.5\n",
    "contrast_0_to_1 = 0.4"
   ]
  },
  {
   "cell_type": "code",
   "execution_count": 10,
   "metadata": {},
   "outputs": [],
   "source": [
    "def gradient(lidar_df : pd.DataFrame, contrast_cof : float = contrast_0_to_1) -> list[float]:\n",
    "    \"\"\"\n",
    "    Converts the reflection lidar_df column to a gradient from 0 to 1.\n",
    "\n",
    "    Parameters\n",
    "    ----------\n",
    "    lidar_df : pd.DataFrame\n",
    "        A lidar dataframe that has a reflection column\n",
    "    gradient_cof : float\n",
    "        Float from the segment [0, 1]. The smaller the number, the stronger the contrast\n",
    "        \n",
    "\n",
    "    Returns\n",
    "    -------\n",
    "    list[float]\n",
    "        a list containing floats of [0, 1] that are responsible for the color and opacity in RGB\n",
    "    \"\"\"\n",
    "    gradient_list : list[float] = []\n",
    "\n",
    "    #хотим выбрать степенную функцию, для которой средний градиент переходит в 0.5\n",
    "    mean_gradient : float= sum(lidar_df[\"r, (reflectance)\"]) / (len(lidar_df[\"r, (reflectance)\"]))\n",
    "    power_normalization : float = math.log(2) / math.log(mean_gradient) \n",
    "\n",
    "\n",
    "    for reflect in lidar_df[\"r, (reflectance)\"]:\n",
    "        color : float = (reflect / 255) ** power_normalization\n",
    "\n",
    "        #переводим в [-1, 1] берём корень и переаодим обратно в [0, 1]\n",
    "        if((2 * color - 1) > 0):\n",
    "            color_normalize : float = 0.5 * ((abs((2 * color - 1)) ** contrast_0_to_1) + 1)\n",
    "        else:\n",
    "            color_normalize : float  = 0.5 * (-(abs((2 * color - 1)) ** contrast_0_to_1) + 1)\n",
    "        \n",
    "        gradient_list.append((color_normalize, 0, 1 - color_normalize, opacity))\n",
    "    return gradient_list"
   ]
  },
  {
   "cell_type": "code",
   "execution_count": null,
   "metadata": {},
   "outputs": [],
   "source": [
    "for frame_num in tqdm(range(0, data_raw_frame)):\n",
    "    frame_radar : pd.DataFrame = pd.read_csv(f\"data/processed data/radar_data_{frame_num}.csv\")\n",
    "    frame_lidar : pd.DataFrame = pd.read_csv(f\"data/processed data/lidar_data_{frame_num}.csv\")\n",
    "\n",
    "    plt.figure(figsize = (22, 10))\n",
    "    plt.xlim([-110, 110])\n",
    "    plt.ylim([-50, 50])\n",
    "    \n",
    "    plt.scatter(frame_lidar[\"X, (m)\"], frame_lidar[\"Y, (m)\"], s=1, c=gradient(frame_lidar))\n",
    "    plt.scatter(frame_radar[frame_radar[\"QPDH0\"] < 0.3][\"X, (m)\"], frame_radar[frame_radar[\"QPDH0\"] < 0.3][\"Y, (m)\"], s=1, c = \"green\")\n",
    "\n",
    "    plt.title(f\"Frame {frame_num}\")\n",
    "    plt.savefig(f\"data/radar_lidar_png/Frame_{frame_num}.png\")\n",
    "    plt.close()"
   ]
  }
 ],
 "metadata": {
  "kernelspec": {
   "display_name": ".venv",
   "language": "python",
   "name": "python3"
  },
  "language_info": {
   "codemirror_mode": {
    "name": "ipython",
    "version": 3
   },
   "file_extension": ".py",
   "mimetype": "text/x-python",
   "name": "python",
   "nbconvert_exporter": "python",
   "pygments_lexer": "ipython3",
   "version": "3.11.0"
  }
 },
 "nbformat": 4,
 "nbformat_minor": 2
}
