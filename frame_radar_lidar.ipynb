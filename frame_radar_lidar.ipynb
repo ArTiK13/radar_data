{
 "cells": [
  {
   "cell_type": "code",
   "execution_count": 8,
   "metadata": {},
   "outputs": [],
   "source": [
    "import pandas as pd\n",
    "import matplotlib.pyplot as plt\n",
    "from tqdm import tqdm\n",
    "import json"
   ]
  },
  {
   "cell_type": "code",
   "execution_count": 9,
   "metadata": {},
   "outputs": [],
   "source": [
    "#constant\n",
    "\n",
    "data_raw_frame = 100\n",
    "opacity = 0.5"
   ]
  },
  {
   "cell_type": "code",
   "execution_count": 10,
   "metadata": {},
   "outputs": [],
   "source": [
    "def delta_t(radar_df, delta_t = 0.1):\n",
    "    with open(f\"data/raw data/radar_positions.json\", \"r\") as file:\n",
    "        radar_positions = {float(k): v for k, v in json.load(file).items()}\n",
    "\n",
    "    for i, cords in radar_positions.items():\n",
    "        for j, ax in enumerate((\"X, (m)\", \"Y, (m)\", \"Z, (m)\")):\n",
    "            radar_df.loc[radar_df[\"radar_idx\"] == i, ax] -= cords[j]\n",
    "\n",
    "    vector_length = (radar_df['X, (m)']**2 + radar_df['Y, (m)']**2 + radar_df['Z, (m)'] ** 2)**0.5\n",
    "    radar_df['RadialDelta'] = (delta_t - radar_df['(radar_point_ts - lidar_ts), (s)']) * radar_df['AbsoluteRadialVelocity']\n",
    "    radar_df['XwithDelta'] = radar_df['X, (m)'] * (vector_length + radar_df['RadialDelta']) / vector_length\n",
    "    radar_df['YwithDelta'] = radar_df['Y, (m)'] * (vector_length + radar_df['RadialDelta']) / vector_length\n",
    "    radar_df['ZwithDelta'] = radar_df['Z, (m)'] * (vector_length + radar_df['RadialDelta']) / vector_length\n",
    "    with open(f\"data/raw data/radar_positions.json\", \"r\") as file:\n",
    "        radar_positions = {float(k): v for k, v in json.load(file).items()}\n",
    "\n",
    "    for i, cords in radar_positions.items():\n",
    "        for j, ax in enumerate((\"XwithDelta\", \"YwithDelta\", \"ZwithDelta\")):\n",
    "            radar_df.loc[radar_df[\"radar_idx\"] == i, ax] += cords[j]\n",
    "    return radar_df\n"
   ]
  },
  {
   "cell_type": "code",
   "execution_count": 11,
   "metadata": {},
   "outputs": [],
   "source": [
    "def normalize(radar_df):\n",
    "    x_radar = radar_df[radar_df[\"QPDH0\"] < 0.3][\"X, (m)\"]\n",
    "    y_radar = radar_df[radar_df[\"QPDH0\"] < 0.3][\"Y, (m)\"]\n",
    "    return x_radar, y_radar"
   ]
  },
  {
   "cell_type": "code",
   "execution_count": 15,
   "metadata": {},
   "outputs": [
    {
     "name": "stderr",
     "output_type": "stream",
     "text": [
      "100%|██████████| 100/100 [1:06:51<00:00, 40.12s/it] \n"
     ]
    }
   ],
   "source": [
    "for frame_num in tqdm(range(0, data_raw_frame)):\n",
    "    frame_radar = pd.read_csv(f\"data/processed data/radar_data_{frame_num}.csv\")\n",
    "    frame_lidar = pd.read_csv(f\"data/processed data/lidar_data_{frame_num}.csv\")\n",
    "\n",
    "    plt.figure(figsize = (11, 5))\n",
    "    plt.xlim([-110, 110])\n",
    "    plt.ylim([-50, 50])\n",
    "    \n",
    "    frame_size = len(frame_lidar[\"r, (reflectance)\"])\n",
    "\n",
    "    gradient = []\n",
    "    for i in range(frame_size):\n",
    "        color = (frame_lidar[\"r, (reflectance)\"][i] / 255) ** 0.3\n",
    "        gradient.append((color, 0, 1 - color, opacity))\n",
    "    \n",
    "    plt.scatter(frame_lidar[\"X, (m)\"], frame_lidar[\"Y, (m)\"], s=1, c=gradient)\n",
    "    frame_radar_normalize = normalize(frame_radar)\n",
    "    plt.scatter(frame_radar_normalize[0], frame_radar_normalize[1], s=1, c = \"red\")\n",
    "\n",
    "    plt.title(f\"Frame {frame_num}\")\n",
    "    plt.savefig(f\"data/radar_lidar_png/Frame_{frame_num}.png\")\n",
    "    plt.close()"
   ]
  }
 ],
 "metadata": {
  "kernelspec": {
   "display_name": ".venv",
   "language": "python",
   "name": "python3"
  },
  "language_info": {
   "codemirror_mode": {
    "name": "ipython",
    "version": 3
   },
   "file_extension": ".py",
   "mimetype": "text/x-python",
   "name": "python",
   "nbconvert_exporter": "python",
   "pygments_lexer": "ipython3",
   "version": "3.11.0"
  }
 },
 "nbformat": 4,
 "nbformat_minor": 2
}
