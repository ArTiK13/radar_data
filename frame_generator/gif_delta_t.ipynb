{
 "cells": [
  {
   "cell_type": "code",
   "execution_count": 1,
   "metadata": {},
   "outputs": [],
   "source": [
    "import pandas as pd\n",
    "import matplotlib.pyplot as plt\n",
    "from tqdm import tqdm\n",
    "import json\n",
    "import imageio\n",
    "import typing as tp"
   ]
  },
  {
   "cell_type": "code",
   "execution_count": 2,
   "metadata": {},
   "outputs": [],
   "source": [
    "#constant\n",
    "\n",
    "data_raw_frame = 100\n",
    "opacity = 0.5"
   ]
  },
  {
   "cell_type": "code",
   "execution_count": 3,
   "metadata": {},
   "outputs": [],
   "source": [
    "radar_df : pd.DataFrame = pd.read_csv(f\"../data/processed data/radar_data_{0}.csv\")\n",
    "radar_df : pd.DataFrame = radar_df[radar_df[\"QPDH0\"] < 0.3]\n",
    "\n",
    "def change_withdelay(delta_t : float = 0.06) -> pd.DataFrame:\n",
    "    \"\"\"\n",
    "    Moves radar_df to delta_t in time\n",
    "\n",
    "    Parameters\n",
    "    ----------\n",
    "    delta_t : float\n",
    "        Time travel radar_df\n",
    "        \n",
    "\n",
    "    Returns\n",
    "    -------\n",
    "    pd.DataFrame\n",
    "        radar_df which has shifted to delta_t\n",
    "    \"\"\"\n",
    "\n",
    "    with open(f\"../data/raw data/radar_positions.json\", \"r\") as file:\n",
    "        radar_positions : dict[float, tp.Any] = {float(k): v for k, v in json.load(file).items()}\n",
    "\n",
    "    for i, cords in radar_positions.items():\n",
    "        for j, ax in enumerate((\"X, (m)\", \"Y, (m)\")):\n",
    "            radar_df.loc[radar_df[\"radar_idx\"] == i, ax] -= cords[j]\n",
    "\n",
    "    vector_length : pd.Series = (radar_df['X, (m)']**2 + radar_df['Y, (m)']**2)**0.5\n",
    "    radar_df['RadialDelta'] = (delta_t - radar_df['(radar_point_ts - lidar_ts), (s)']) * radar_df['AbsoluteRadialVelocity']\n",
    "    radar_df['XwithDelta'] = radar_df['X, (m)'] * (vector_length + radar_df['RadialDelta']) / vector_length\n",
    "    radar_df['YwithDelta'] = radar_df['Y, (m)'] * (vector_length + radar_df['RadialDelta']) / vector_length\n",
    "\n",
    "\n",
    "    for i, cords in radar_positions.items():\n",
    "        for j, ax in enumerate((\"XwithDelta\", \"YwithDelta\")):\n",
    "            radar_df.loc[radar_df[\"radar_idx\"] == i, ax] += cords[j]\n",
    "\n",
    "    for i, cords in radar_positions.items():\n",
    "        for j, ax in enumerate((\"X, (m)\", \"Y, (m)\")):\n",
    "            radar_df.loc[radar_df[\"radar_idx\"] == i, ax] += cords[j]\n",
    "    \n",
    "    return radar_df"
   ]
  },
  {
   "cell_type": "code",
   "execution_count": null,
   "metadata": {},
   "outputs": [],
   "source": [
    "\n",
    "frame_num = 16\n",
    "radar_df = pd.read_csv(f\"../data/processed data/radar_data_{frame_num}.csv\")\n",
    "radar_df = radar_df[radar_df[\"QPDH0\"] < 0.3]\n",
    "\n",
    "\n",
    "for delta_time in tqdm(range(0, 300, 30)):\n",
    "    frame_radar = pd.read_csv(f\"../data/processed data/radar_data_{frame_num}.csv\")\n",
    "    frame_lidar = pd.read_csv(f\"../data/processed data/lidar_data_{frame_num}.csv\")\n",
    "\n",
    "    plt.figure(figsize = (22, 10))\n",
    "    plt.xlim([-110, 110])\n",
    "    plt.ylim([-50, 50])\n",
    "    \n",
    "    frame_size = len(frame_lidar[\"r, (reflectance)\"])\n",
    "\n",
    "    gradient = []\n",
    "    for i in range(frame_size):\n",
    "        color = (frame_lidar[\"r, (reflectance)\"][i] / 255) ** 0.3\n",
    "        gradient.append((color, 0, 1 - color, opacity))\n",
    "    \n",
    "    plt.scatter(frame_lidar[\"X, (m)\"], frame_lidar[\"Y, (m)\"], s=1, c=gradient)\n",
    "    plt.scatter(change_withdelay(delta_time/1000)[\"XwithDelta\"], change_withdelay(delta_time/1000)[\"YwithDelta\"], s=1, c = \"red\")\n",
    "\n",
    "    plt.title(f\"Frame {delta_time}\")\n",
    "    plt.savefig(f\"../data/delta_t/Frame_{delta_time}.png\")\n",
    "    plt.close()\n"
   ]
  },
  {
   "cell_type": "code",
   "execution_count": null,
   "metadata": {},
   "outputs": [],
   "source": [
    "with imageio.get_writer(\"../data/gif_delta_t.gif\", mode=\"I\", duration=0.5) as writer:\n",
    "    for delta_time in range(0, 300, 30):\n",
    "        image = imageio.imread(f\"../data/delta_t/Frame_{delta_time}.png\")\n",
    "        writer.append_data(image)"
   ]
  }
 ],
 "metadata": {
  "kernelspec": {
   "display_name": ".venv",
   "language": "python",
   "name": "python3"
  },
  "language_info": {
   "codemirror_mode": {
    "name": "ipython",
    "version": 3
   },
   "file_extension": ".py",
   "mimetype": "text/x-python",
   "name": "python",
   "nbconvert_exporter": "python",
   "pygments_lexer": "ipython3",
   "version": "3.11.0"
  }
 },
 "nbformat": 4,
 "nbformat_minor": 2
}
