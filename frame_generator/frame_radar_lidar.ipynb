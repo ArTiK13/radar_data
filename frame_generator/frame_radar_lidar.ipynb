{
 "cells": [
  {
   "cell_type": "code",
   "execution_count": 39,
   "metadata": {},
   "outputs": [],
   "source": [
    "import sys\n",
    "\n",
    "sys.path.append(\"../\")\n",
    "\n",
    "\n",
    "import globals\n",
    "\n",
    "\n",
    "import pandas as pd\n",
    "import matplotlib.pyplot as plt\n",
    "from tqdm import tqdm\n",
    "import math"
   ]
  },
  {
   "cell_type": "code",
   "execution_count": 37,
   "metadata": {},
   "outputs": [],
   "source": [
    "# constant\n",
    "\n",
    "data_raw_frame = 100\n",
    "opacity_0_to_1 = 0.5\n",
    "contrast_0_to_1 = 0.5"
   ]
  },
  {
   "cell_type": "code",
   "execution_count": null,
   "metadata": {},
   "outputs": [],
   "source": [
    "for frame_num in tqdm(range(0, data_raw_frame)):\n",
    "    frame_radar: pd.DataFrame = pd.read_csv(\n",
    "        f\"../data/processed data/radar_data_{frame_num}.csv\"\n",
    "    )\n",
    "    frame_lidar: pd.DataFrame = pd.read_csv(\n",
    "        f\"../data/processed data/lidar_data_{frame_num}.csv\"\n",
    "    )\n",
    "\n",
    "    plt.figure(figsize=(22, 10))\n",
    "    plt.xlim([-110, 110])\n",
    "    plt.ylim([-50, 50])\n",
    "\n",
    "    plt.scatter(\n",
    "        frame_lidar[\"X, (m)\"],\n",
    "        frame_lidar[\"Y, (m)\"],\n",
    "        s=1,\n",
    "        c=globals.gradient_reflections(frame_lidar, contrast_cof=0.4),\n",
    "    )\n",
    "    plt.scatter(\n",
    "        frame_radar[frame_radar[\"QPDH0\"] < 0.3][\"X, (m)\"],\n",
    "        frame_radar[frame_radar[\"QPDH0\"] < 0.3][\"Y, (m)\"],\n",
    "        s=1,\n",
    "        c=\"green\",\n",
    "    )\n",
    "\n",
    "    plt.title(f\"Frame {frame_num}\")\n",
    "    plt.savefig(f\"../data/radar_lidar_png/Frame_{frame_num}.png\")\n",
    "    plt.close()"
   ]
  }
 ],
 "metadata": {
  "kernelspec": {
   "display_name": ".venv",
   "language": "python",
   "name": "python3"
  },
  "language_info": {
   "codemirror_mode": {
    "name": "ipython",
    "version": 3
   },
   "file_extension": ".py",
   "mimetype": "text/x-python",
   "name": "python",
   "nbconvert_exporter": "python",
   "pygments_lexer": "ipython3",
   "version": "3.11.0"
  }
 },
 "nbformat": 4,
 "nbformat_minor": 2
}
