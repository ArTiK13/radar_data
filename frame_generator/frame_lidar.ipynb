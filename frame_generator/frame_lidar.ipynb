{
 "cells": [
  {
   "cell_type": "code",
   "execution_count": 2,
   "metadata": {},
   "outputs": [],
   "source": [
    "import pandas as pd\n",
    "import matplotlib.pyplot as plt\n",
    "from tqdm import tqdm"
   ]
  },
  {
   "cell_type": "code",
   "execution_count": 3,
   "metadata": {},
   "outputs": [],
   "source": [
    "#constant\n",
    "\n",
    "data_raw_frame = 100\n",
    "opacity = 0.05"
   ]
  },
  {
   "cell_type": "code",
   "execution_count": null,
   "metadata": {},
   "outputs": [],
   "source": [
    "for frame_num in tqdm(range(0, data_raw_frame)):\n",
    "    frame_lidar = pd.read_csv(f\"../data/processed data/lidar_data_{frame_num}.csv\")\n",
    "\n",
    "    plt.figure(figsize = (22, 10))\n",
    "    plt.xlim([-110, 110])\n",
    "    plt.ylim([-50, 50])\n",
    "\n",
    "    frame_size = len(frame_lidar[\"r, (reflectance)\"])\n",
    "\n",
    "    gradient = []\n",
    "    for i in range(frame_size):\n",
    "        color = (frame_lidar[\"r, (reflectance)\"][i] / 255) ** 0.3\n",
    "        gradient.append((color, 0, 1 - color, opacity))\n",
    "    \n",
    "    plt.scatter(frame_lidar[\"X, (m)\"], frame_lidar[\"Y, (m)\"], s=1, c=gradient)\n",
    "    plt.title(f\"Frame {frame_num}\")\n",
    "    plt.savefig(f\"../data/lidar_reflection_png/Frame_{frame_num}.png\")\n",
    "    plt.close()"
   ]
  }
 ],
 "metadata": {
  "kernelspec": {
   "display_name": ".venv",
   "language": "python",
   "name": "python3"
  },
  "language_info": {
   "codemirror_mode": {
    "name": "ipython",
    "version": 3
   },
   "file_extension": ".py",
   "mimetype": "text/x-python",
   "name": "python",
   "nbconvert_exporter": "python",
   "pygments_lexer": "ipython3",
   "version": "3.11.0"
  }
 },
 "nbformat": 4,
 "nbformat_minor": 2
}
